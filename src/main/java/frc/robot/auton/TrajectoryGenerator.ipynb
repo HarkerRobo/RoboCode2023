{
 "cells": [
  {
   "cell_type": "code",
   "execution_count": 1,
   "metadata": {},
   "outputs": [
    {
     "ename": "ModuleNotFoundError",
     "evalue": "No module named 'pandas'",
     "output_type": "error",
     "traceback": [
      "\u001b[0;31m---------------------------------------------------------------------------\u001b[0m",
      "\u001b[0;31mModuleNotFoundError\u001b[0m                       Traceback (most recent call last)",
      "Cell \u001b[0;32mIn[1], line 2\u001b[0m\n\u001b[1;32m      1\u001b[0m \u001b[39mimport\u001b[39;00m \u001b[39mos\u001b[39;00m\n\u001b[0;32m----> 2\u001b[0m \u001b[39mimport\u001b[39;00m \u001b[39mpandas\u001b[39;00m \u001b[39mas\u001b[39;00m \u001b[39mpd\u001b[39;00m\n\u001b[1;32m      3\u001b[0m \u001b[39mimport\u001b[39;00m \u001b[39mjson\u001b[39;00m\n\u001b[1;32m      5\u001b[0m file \u001b[39m=\u001b[39m \u001b[39m'\u001b[39m\u001b[39m\\\\\u001b[39;00m\u001b[39mUsers\u001b[39m\u001b[39m\\\\\u001b[39;00m\u001b[39mbrenna\u001b[39m\u001b[39m\\\\\u001b[39;00m\u001b[39mDocuments\u001b[39m\u001b[39m\\\\\u001b[39;00m\u001b[39mRobotics\u001b[39m\u001b[39m\\\\\u001b[39;00m\u001b[39mRoboCode2023\u001b[39m\u001b[39m\\\\\u001b[39;00m\u001b[39msrc\u001b[39m\u001b[39m\\\\\u001b[39;00m\u001b[39mmain\u001b[39m\u001b[39m\\\\\u001b[39;00m\u001b[39mdeploy\u001b[39m\u001b[39m\\\\\u001b[39;00m\u001b[39mpathplanner\u001b[39m\u001b[39m\\\\\u001b[39;00m\u001b[39mNew New Path.path\u001b[39m\u001b[39m'\u001b[39m \u001b[39m# CHANGE PATH AS NEEDED\u001b[39;00m\n",
      "\u001b[0;31mModuleNotFoundError\u001b[0m: No module named 'pandas'"
     ]
    }
   ],
   "source": [
    "import os\n",
    "import pandas as pd\n",
    "import json\n",
    "\n",
    "file = '\\\\Users\\\\brenna\\\\Documents\\\\Robotics\\\\RoboCode2023\\\\src\\\\main\\\\deploy\\\\pathplanner\\\\BottomPathAndPush.path' # CHANGE PATH AS NEEDED"
   ]
  },
  {
   "cell_type": "code",
   "execution_count": 12,
   "metadata": {},
   "outputs": [
    {
     "name": "stdout",
     "output_type": "stream",
     "text": [
      "new Pose2d(1.8074331741883827, 4.954680282241921, Rotation2d.fromDegrees(180.0))\n",
      "new Pose2d(4.017564780892274, 4.845985285190911, Rotation2d.fromDegrees(180.0))\n",
      "new Pose2d(7.654318223890685, 5.14489652708119, Rotation2d.fromDegrees(-145.6196552761552))\n",
      "new Pose2d(4.026622697313192, 4.8369273687699925, Rotation2d.fromDegrees(180.0))\n",
      "new Pose2d(1.802904215977924, 4.334213007409066, Rotation2d.fromDegrees(180.0))\n"
     ]
    }
   ],
   "source": [
    "with open(file, 'r') as f:\n",
    "    data = json.load(f)\n",
    "\n",
    "data.pop('markers', None)\n",
    "\n",
    "with open(file, 'w') as f:\n",
    "    json.dump(data, f, indent=2)\n",
    "\n",
    "f = open(file)\n",
    "raw_data = json.load(f)\n",
    "\n",
    "df = pd.DataFrame(raw_data)\n",
    "\n",
    "data = []\n",
    "\n",
    "for i in df.itertuples(index=False):\n",
    "    temp = {}\n",
    "    translationX = (i.waypoints['anchorPoint']['x'])\n",
    "    translationY = (i.waypoints['anchorPoint']['y'])\n",
    "    rotation = (i.waypoints['holonomicAngle'])\n",
    "\n",
    "    temp['x'] = translationX\n",
    "    temp['y'] = translationY\n",
    "    temp['rotation'] = rotation\n",
    "\n",
    "    data.append(temp)\n",
    "\n",
    "for tempx in data:\n",
    "    print(\"new Pose2d(\" + str(tempx['x']) + \",\", str(tempx['y']) + \",\", \"Rotation2d.fromDegrees(\" + str(tempx['rotation']) + \"))\")"
   ]
  }
 ],
 "metadata": {
  "kernelspec": {
   "display_name": "Python 3",
   "language": "python",
   "name": "python3"
  },
  "language_info": {
   "codemirror_mode": {
    "name": "ipython",
    "version": 3
   },
   "file_extension": ".py",
   "mimetype": "text/x-python",
   "name": "python",
   "nbconvert_exporter": "python",
   "pygments_lexer": "ipython3",
   "version": "3.11.1 (v3.11.1:a7a450f84a, Dec  6 2022, 15:24:06) [Clang 13.0.0 (clang-1300.0.29.30)]"
  },
  "orig_nbformat": 4,
  "vscode": {
   "interpreter": {
    "hash": "1a1af0ee75eeea9e2e1ee996c87e7a2b11a0bebd85af04bb136d915cefc0abce"
   }
  }
 },
 "nbformat": 4,
 "nbformat_minor": 2
}
