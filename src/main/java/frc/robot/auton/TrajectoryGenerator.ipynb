{
 "cells": [
  {
   "cell_type": "code",
   "execution_count": 7,
   "metadata": {},
   "outputs": [],
   "source": [
    "import os\n",
    "import pandas as pd\n",
    "import json"
   ]
  },
  {
   "cell_type": "code",
   "execution_count": 60,
   "metadata": {},
   "outputs": [
    {
     "name": "stdout",
     "output_type": "stream",
     "text": [
      "new Pose2d(1.811962132398841, 3.269907827951249, Rotation2d.fromDegrees(180.0))\n",
      "new Pose2d(3.8744746167398283, 2.567762580068195, Rotation2d.fromDegrees(0.0))\n"
     ]
    }
   ],
   "source": [
    "file = pd.read_json(\"./chargePad.json\") # Change JSON Path\n",
    "df = pd.DataFrame(file)\n",
    "data = []\n",
    "\n",
    "for i in df.itertuples(index=False):\n",
    "    temp = {}\n",
    "    translationX = (i.waypoints['anchorPoint']['x'])\n",
    "    translationY = (i.waypoints['anchorPoint']['y'])\n",
    "    rotation = (i.waypoints['holonomicAngle'])\n",
    "\n",
    "    temp['x'] = translationX\n",
    "    temp['y'] = translationY\n",
    "    temp['rotation'] = rotation\n",
    "\n",
    "    data.append(temp)\n",
    "\n",
    "for tempx in data:\n",
    "    print(\"new Pose2d(\" + str(tempx['x']) + \",\", str(tempx['y']) + \",\", \"Rotation2d.fromDegrees(\" + str(tempx['rotation']) + \"))\")\n",
    "\n",
    "\n"
   ]
  }
 ],
 "metadata": {
  "kernelspec": {
   "display_name": "Python 3",
   "language": "python",
   "name": "python3"
  },
  "language_info": {
   "codemirror_mode": {
    "name": "ipython",
    "version": 3
   },
   "file_extension": ".py",
   "mimetype": "text/x-python",
   "name": "python",
   "nbconvert_exporter": "python",
   "pygments_lexer": "ipython3",
   "version": "3.10.9"
  },
  "orig_nbformat": 4,
  "vscode": {
   "interpreter": {
    "hash": "fb90c6e9a14fea1bcc08247f6f5279e9682fc3d3880f835cbb7acaea3eb0a57f"
   }
  }
 },
 "nbformat": 4,
 "nbformat_minor": 2
}
