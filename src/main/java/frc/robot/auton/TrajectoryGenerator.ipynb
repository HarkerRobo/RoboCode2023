{
 "cells": [
  {
   "cell_type": "code",
   "execution_count": 11,
   "metadata": {},
   "outputs": [],
   "source": [
    "import os\n",
    "import pandas as pd\n",
    "import json\n",
    "\n",
    "file = 'C:\\\\Users\\\\xiabe\\\\Downloads\\\\PathPlanner-Windows\\\\deploy\\\\pathplanner\\\\eeeeeeeeeeeeeev2.path' # CHANGE PATH AS NEEDED"
   ]
  },
  {
   "cell_type": "code",
   "execution_count": 12,
   "metadata": {},
   "outputs": [
    {
     "name": "stdout",
     "output_type": "stream",
     "text": [
      "new Pose2d(1.8074331741883827, 4.954680282241921, Rotation2d.fromDegrees(180.0))\n",
      "new Pose2d(4.017564780892274, 4.845985285190911, Rotation2d.fromDegrees(180.0))\n",
      "new Pose2d(7.654318223890685, 5.14489652708119, Rotation2d.fromDegrees(-145.6196552761552))\n",
      "new Pose2d(4.026622697313192, 4.8369273687699925, Rotation2d.fromDegrees(180.0))\n",
      "new Pose2d(1.802904215977924, 4.334213007409066, Rotation2d.fromDegrees(180.0))\n"
     ]
    }
   ],
   "source": [
    "with open(file, 'r') as f:\n",
    "    data = json.load(f)\n",
    "\n",
    "data.pop('markers', None)\n",
    "\n",
    "with open(file, 'w') as f:\n",
    "    json.dump(data, f, indent=2)\n",
    "\n",
    "f = open(file)\n",
    "raw_data = json.load(f)\n",
    "\n",
    "df = pd.DataFrame(raw_data)\n",
    "\n",
    "data = []\n",
    "\n",
    "for i in df.itertuples(index=False):\n",
    "    temp = {}\n",
    "    translationX = (i.waypoints['anchorPoint']['x'])\n",
    "    translationY = (i.waypoints['anchorPoint']['y'])\n",
    "    rotation = (i.waypoints['holonomicAngle'])\n",
    "\n",
    "    temp['x'] = translationX\n",
    "    temp['y'] = translationY\n",
    "    temp['rotation'] = rotation\n",
    "\n",
    "    data.append(temp)\n",
    "\n",
    "for tempx in data:\n",
    "    print(\"new Pose2d(\" + str(tempx['x']) + \",\", str(tempx['y']) + \",\", \"Rotation2d.fromDegrees(\" + str(tempx['rotation']) + \"))\")"
   ]
  }
 ],
 "metadata": {
  "kernelspec": {
   "display_name": "Python 3",
   "language": "python",
   "name": "python3"
  },
  "language_info": {
   "codemirror_mode": {
    "name": "ipython",
    "version": 3
   },
   "file_extension": ".py",
   "mimetype": "text/x-python",
   "name": "python",
   "nbconvert_exporter": "python",
   "pygments_lexer": "ipython3",
   "version": "3.10.9"
  },
  "orig_nbformat": 4,
  "vscode": {
   "interpreter": {
    "hash": "fb90c6e9a14fea1bcc08247f6f5279e9682fc3d3880f835cbb7acaea3eb0a57f"
   }
  }
 },
 "nbformat": 4,
 "nbformat_minor": 2
}
